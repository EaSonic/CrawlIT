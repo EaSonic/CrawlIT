{
 "cells": [
  {
   "cell_type": "code",
   "execution_count": 10,
   "metadata": {},
   "outputs": [
    {
     "name": "stdout",
     "output_type": "stream",
     "text": [
      "█\r"
     ]
    }
   ],
   "source": [
    "import itchat"
   ]
  },
  {
   "cell_type": "code",
   "execution_count": 11,
   "metadata": {},
   "outputs": [
    {
     "name": "stderr",
     "output_type": "stream",
     "text": [
      "Getting uuid of QR code.\n",
      "Downloading QR code.\n",
      "Please scan the QR code to log in.\n",
      "Please press confirm on your phone.\n",
      "Loading the contact, this may take a little while.\n",
      "Login successfully as 赵逸笙\n"
     ]
    }
   ],
   "source": [
    "itchat.auto_login()"
   ]
  },
  {
   "cell_type": "code",
   "execution_count": 12,
   "metadata": {},
   "outputs": [
    {
     "name": "stdout",
     "output_type": "stream",
     "text": [
      "[<Chatroom: {'MemberList': <ContactList: []>, 'Uin': 0, 'UserName': '@@fe6cf737f5ca5822c34d6bac9cdd579a6c4b791a1787b7824f94bf8d1f82d899', 'NickName': '口罩工作小组', 'HeadImgUrl': '/cgi-bin/mmwebwx-bin/webwxgetheadimg?seq=0&username=@@fe6cf737f5ca5822c34d6bac9cdd579a6c4b791a1787b7824f94bf8d1f82d899&skey=@crypt_3f5f3948_d8f00c304441704bd50f0c5e4ba643c0', 'ContactFlag': 0, 'MemberCount': 6, 'RemarkName': '', 'HideInputBarFlag': 0, 'Sex': 0, 'Signature': '', 'VerifyFlag': 0, 'OwnerUin': 0, 'PYInitial': '', 'PYQuanPin': '', 'RemarkPYInitial': '', 'RemarkPYQuanPin': '', 'StarFriend': 0, 'AppAccountFlag': 0, 'Statues': 1, 'AttrStatus': 0, 'Province': '', 'City': '', 'Alias': '', 'SnsFlag': 0, 'UniFriend': 0, 'DisplayName': '', 'ChatRoomId': 0, 'KeyWord': '', 'EncryChatRoomId': '', 'IsOwner': 1, 'IsAdmin': None, 'Self': <User: {'MemberList': <ContactList: []>, 'UserName': '@8c37d9c111e1079f1574182c77d48e88', 'City': '', 'DisplayName': '', 'PYQuanPin': '', 'RemarkPYInitial': '', 'Province': '', 'KeyWord': '', 'RemarkName': '', 'PYInitial': '', 'EncryChatRoomId': '', 'Alias': '', 'Signature': 'lol', 'NickName': '赵逸笙', 'RemarkPYQuanPin': '', 'HeadImgUrl': '/cgi-bin/mmwebwx-bin/webwxgeticon?seq=1485160215&username=@8c37d9c111e1079f1574182c77d48e88&skey=@crypt_3f5f3948_d8f00c304441704bd50f0c5e4ba643c0', 'UniFriend': 0, 'Sex': 1, 'AppAccountFlag': 0, 'VerifyFlag': 0, 'ChatRoomId': 0, 'HideInputBarFlag': 0, 'AttrStatus': 0, 'SnsFlag': 305, 'MemberCount': 0, 'OwnerUin': 0, 'ContactFlag': 0, 'Uin': 362884015, 'StarFriend': 0, 'Statues': 0, 'WebWxPluginSwitch': 0, 'HeadImgFlag': 1}>}>]\n"
     ]
    }
   ],
   "source": [
    "mask = itchat.search_chatrooms(name='口罩')\n",
    "print(mask)"
   ]
  },
  {
   "cell_type": "code",
   "execution_count": 13,
   "metadata": {},
   "outputs": [
    {
     "name": "stdout",
     "output_type": "stream",
     "text": [
      "@@fe6cf737f5ca5822c34d6bac9cdd579a6c4b791a1787b7824f94bf8d1f82d899\n"
     ]
    },
    {
     "data": {
      "text/plain": [
       "<ItchatReturnValue: {'BaseResponse': {'Ret': 0, 'ErrMsg': '请求成功', 'RawMsg': '请求成功'}, 'MsgID': '6379822876295704844', 'LocalID': '15835471468650'}>"
      ]
     },
     "execution_count": 13,
     "metadata": {},
     "output_type": "execute_result"
    }
   ],
   "source": [
    "mask_id = mask[0]['UserName']\n",
    "print(mask[0]['UserName'])\n",
    "\n",
    "itchat.send(\"晚安，爱你，么么哒~\", toUserName=mask_id)"
   ]
  },
  {
   "cell_type": "code",
   "execution_count": 18,
   "metadata": {},
   "outputs": [
    {
     "name": "stdout",
     "output_type": "stream",
     "text": [
      "<Response [200]>\n"
     ]
    }
   ],
   "source": [
    "import requests\n",
    "\n",
    "face_mask_riteaid = {'url': 'https://www.riteaid.com/shop/rite-aid-health-care-ear-loop-face-mask-20-ct-8021972',#'https://www.riteaid.com/shop/doll-face-the-incredible-glow-mask-2-oz',\n",
    "                     'name': 'RiteAid Face Mask'}\n",
    "response = requests.get(face_mask_riteaid['url'])\n",
    "print(response)"
   ]
  },
  {
   "cell_type": "code",
   "execution_count": 19,
   "metadata": {},
   "outputs": [
    {
     "name": "stdout",
     "output_type": "stream",
     "text": [
      "['[{\"pageName\":\"Rite Aid Health Care Ear-Loop Face Mask - 20 ct | Rite Aid\",\"pageType\":\"product\",\"ecommerce\":{\"detail\":{\"products\":[{\"name\":\"Rite Aid Health Care Ear-Loop Face Mask - 20 ct\",\"id\":\"8021972\",\"price\":\"2.99\",\"brand\":\"Rite Aid\",\"category\":\"Medicine & Health\",\"department\":\"\",\"dimension4\":\"Out of stock\",\"dimension7\":\"No\",\"dimension5\":\"0\",\"dimension6\":\"0\"}]}}}]', '']\n",
      "<class 'list'>\n",
      "2.99\n"
     ]
    }
   ],
   "source": [
    "import json\n",
    "from bs4 import BeautifulSoup\n",
    "import re\n",
    "\n",
    "sp_fm_ra = BeautifulSoup(response.content)\n",
    "info = sp_fm_ra.find(\"script\", text=re.compile(\"var dlObjects\")).text.split(\"\\n\")\n",
    "\n",
    "info = filter(lambda x: x.find('var dlObjects =')>0, info)\n",
    "info = list(info)\n",
    "infoo = info[0].lstrip().split('=')\n",
    "print(infoo[1].strip().split(';'))\n",
    "\n",
    "riteaid_face_mask_info = json.loads(infoo[1].strip().split(';')[0])[0]\n",
    "\n",
    "print(type(riteaid_face_mask_info['ecommerce']['detail']['products']))\n",
    "print(riteaid_face_mask_info['ecommerce']['detail']['products'][0]['price'])"
   ]
  },
  {
   "cell_type": "code",
   "execution_count": 16,
   "metadata": {},
   "outputs": [
    {
     "data": {
      "text/plain": [
       "<ItchatReturnValue: {'BaseResponse': {'Ret': 0, 'ErrMsg': '请求成功', 'RawMsg': '请求成功'}, 'MsgID': '8787620794834724801', 'LocalID': '15835471719207'}>"
      ]
     },
     "execution_count": 16,
     "metadata": {},
     "output_type": "execute_result"
    }
   ],
   "source": [
    "itchat.send(\"口罩: {},\\n价格: {},\\n库存: {}\\n网址: {}\".format(riteaid_face_mask_info['ecommerce']['detail']['products'][0]['name'], \n",
    "                                              riteaid_face_mask_info['ecommerce']['detail']['products'][0]['price'],\n",
    "                                              riteaid_face_mask_info['ecommerce']['detail']['products'][0]['dimension4'].upper(),\n",
    "                                              face_mask_riteaid['url']), toUserName=mask_id)"
   ]
  },
  {
   "cell_type": "code",
   "execution_count": 17,
   "metadata": {},
   "outputs": [
    {
     "name": "stderr",
     "output_type": "stream",
     "text": [
      "LOG OUT!\n"
     ]
    },
    {
     "data": {
      "text/plain": [
       "<ItchatReturnValue: {'BaseResponse': {'ErrMsg': '请求成功', 'Ret': 0, 'RawMsg': 'logout successfully.'}}>"
      ]
     },
     "execution_count": 17,
     "metadata": {},
     "output_type": "execute_result"
    }
   ],
   "source": [
    "itchat.logout()"
   ]
  },
  {
   "cell_type": "code",
   "execution_count": 16,
   "metadata": {},
   "outputs": [
    {
     "name": "stdout",
     "output_type": "stream",
     "text": [
      "2020-03-06 22:05:38.511502\n",
      "<class 'int'>\n"
     ]
    }
   ],
   "source": [
    "import datetime\n",
    "import time\n",
    "\n",
    "print(datetime.datetime.now())\n",
    "now = datetime.datetime.now()\n",
    "print(type(now.minute))"
   ]
  },
  {
   "cell_type": "code",
   "execution_count": 12,
   "metadata": {},
   "outputs": [
    {
     "name": "stdout",
     "output_type": "stream",
     "text": [
      "<class 'int'>\n"
     ]
    }
   ],
   "source": [
    "print(type(now.second))"
   ]
  },
  {
   "cell_type": "code",
   "execution_count": null,
   "metadata": {},
   "outputs": [],
   "source": []
  },
  {
   "cell_type": "code",
   "execution_count": null,
   "metadata": {},
   "outputs": [],
   "source": []
  }
 ],
 "metadata": {
  "kernelspec": {
   "display_name": "Python 3",
   "language": "python",
   "name": "python3"
  },
  "language_info": {
   "codemirror_mode": {
    "name": "ipython",
    "version": 3
   },
   "file_extension": ".py",
   "mimetype": "text/x-python",
   "name": "python",
   "nbconvert_exporter": "python",
   "pygments_lexer": "ipython3",
   "version": "3.7.3"
  }
 },
 "nbformat": 4,
 "nbformat_minor": 4
}
